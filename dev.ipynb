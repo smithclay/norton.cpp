{
 "cells": [
  {
   "cell_type": "code",
   "execution_count": 13,
   "metadata": {},
   "outputs": [],
   "source": [
    "import whisper\n",
    "\n",
    "model = whisper.load_model(\"tiny\")\n",
    "#result = model.transcribe(\"assets/input.mp3\")\n",
    "#print(result[\"text\"])"
   ]
  },
  {
   "cell_type": "code",
   "execution_count": null,
   "metadata": {},
   "outputs": [],
   "source": [
    "from llama_cpp import Llama\n",
    "llm = Llama(model_path=\"./models/llama-2-7b-chat.Q4_K_M.gguf\")"
   ]
  },
  {
   "cell_type": "code",
   "execution_count": 21,
   "metadata": {},
   "outputs": [
    {
     "name": "stderr",
     "output_type": "stream",
     "text": [
      "\n",
      "llama_print_timings:        load time = 17267.39 ms\n",
      "llama_print_timings:      sample time =    42.65 ms /    60 runs   (    0.71 ms per token,  1406.73 tokens per second)\n",
      "llama_print_timings: prompt eval time = 17267.27 ms /   125 tokens (  138.14 ms per token,     7.24 tokens per second)\n",
      "llama_print_timings:        eval time = 35957.77 ms /    59 runs   (  609.45 ms per token,     1.64 tokens per second)\n",
      "llama_print_timings:       total time = 53439.01 ms\n"
     ]
    }
   ],
   "source": [
    "prompt = \"\"\"You are Emperor Norton is a 19th century eccentric who lives in San Francisco. \n",
    "\n",
    "Have an engaging conversation with a human, replying in under 280 characters. Do not use a salutation or closing in your reply.\n",
    "Use the provided interests and personality to reply in Emperor Norton's authentic voice.\n",
    "\n",
    "Interests: politics, corruption, justice\n",
    "Personality: outgoing, direct, formal, kind, funny\n",
    "\n",
    "===\n",
    "User: What is the most theatening vegetable?\n",
    "Emperor Norton:\n",
    "\"\"\"\n",
    "output = llm(prompt, max_tokens=60, stop=[\"User:\", \"\\n\"], echo=False)"
   ]
  },
  {
   "cell_type": "code",
   "execution_count": 27,
   "metadata": {},
   "outputs": [],
   "source": [
    "emperor_reply = output['choices'][0]['text']"
   ]
  },
  {
   "cell_type": "code",
   "execution_count": 26,
   "metadata": {},
   "outputs": [
    {
     "name": "stderr",
     "output_type": "stream",
     "text": [
      "Special tokens have been added in the vocabulary, make sure the associated word embeddings are fine-tuned or trained.\n"
     ]
    }
   ],
   "source": [
    "# via: https://huggingface.co/blog/speecht5\n",
    "# https://huggingface.co/microsoft/speecht5_tts\n",
    "from transformers import SpeechT5Processor, SpeechT5ForTextToSpeech\n",
    "\n",
    "processor = SpeechT5Processor.from_pretrained(\"microsoft/speecht5_tts\")\n",
    "model = SpeechT5ForTextToSpeech.from_pretrained(\"microsoft/speecht5_tts\")"
   ]
  },
  {
   "cell_type": "code",
   "execution_count": 28,
   "metadata": {},
   "outputs": [],
   "source": [
    "inputs = processor(text=emperor_reply, return_tensors=\"pt\")\n",
    "\n",
    "from datasets import load_dataset\n",
    "embeddings_dataset = load_dataset(\"Matthijs/cmu-arctic-xvectors\", split=\"validation\")\n",
    "\n",
    "import torch\n",
    "speaker_embeddings = torch.tensor(embeddings_dataset[400][\"xvector\"]).unsqueeze(0)"
   ]
  },
  {
   "cell_type": "code",
   "execution_count": 29,
   "metadata": {},
   "outputs": [],
   "source": [
    "from transformers import SpeechT5HifiGan\n",
    "vocoder = SpeechT5HifiGan.from_pretrained(\"microsoft/speecht5_hifigan\")"
   ]
  },
  {
   "cell_type": "code",
   "execution_count": 30,
   "metadata": {},
   "outputs": [],
   "source": [
    "speech = model.generate_speech(inputs[\"input_ids\"], speaker_embeddings, vocoder=vocoder)"
   ]
  },
  {
   "cell_type": "code",
   "execution_count": 31,
   "metadata": {},
   "outputs": [],
   "source": [
    "import soundfile as sf\n",
    "sf.write(\"techno.wav\", speech.numpy(), samplerate=16000)"
   ]
  }
 ],
 "metadata": {
  "kernelspec": {
   "display_name": ".venv",
   "language": "python",
   "name": "python3"
  },
  "language_info": {
   "codemirror_mode": {
    "name": "ipython",
    "version": 3
   },
   "file_extension": ".py",
   "mimetype": "text/x-python",
   "name": "python",
   "nbconvert_exporter": "python",
   "pygments_lexer": "ipython3",
   "version": "3.11.2"
  },
  "orig_nbformat": 4
 },
 "nbformat": 4,
 "nbformat_minor": 2
}
